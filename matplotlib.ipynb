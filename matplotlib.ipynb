{
 "cells": [
  {
   "cell_type": "markdown",
   "metadata": {},
   "source": [
    "# Matplotlib \n",
    "\n",
    "Matplotlib est une **bibliothèque externe** Python qui vous permet de visualiser vos données sous forme de graphiques.\n",
    "\n",
    "**Installation**\n",
    "\n",
    "```shell\n",
    "python -m pip install matplotlib\n",
    "```\n",
    "\n",
    "**Importation**"
   ]
  },
  {
   "cell_type": "code",
   "execution_count": null,
   "metadata": {},
   "outputs": [],
   "source": [
    "import matplotlib as mpl         # Importation de tout la bibliothèque \n",
    "import matplotlib.pyplot as plt  # Alias du module pyplot\n",
    "import numpy as np               # Importation de numpy"
   ]
  },
  {
   "cell_type": "markdown",
   "metadata": {},
   "source": [
    "## Définitions\n",
    "\n",
    "Matplotlib affiche vos données sur des **Figures** dont chacune peut contenir un ou plusieurs **Axes**.\n",
    "\n",
    "Une **Figure** est le conteneur principal pour nos **Axes**, cela peut être une fenêtre, une zone dans un notebook, etc.  \n",
    "\n",
    "Un **Axe** est la zone où sont dessinés les différents points en fonction de ses coordonnées."
   ]
  },
  {
   "cell_type": "markdown",
   "metadata": {},
   "source": [
    "## Création d'une figure\n",
    "\n",
    "La méthode la plus simple pour créer **une Figure** avec **un Axe** est d'utiliser **`plt.subplots()`**.\n"
   ]
  },
  {
   "cell_type": "code",
   "execution_count": null,
   "metadata": {},
   "outputs": [],
   "source": [
    "fig, ax = plt.subplots() # figure et axes vides\n",
    "\n",
    "#ax.text(0.45, 0.45, \"AXES\", fontsize=12)\n",
    "#ax.text(0.45, 1.1, \"FIGURE\", fontsize=12)"
   ]
  },
  {
   "cell_type": "markdown",
   "metadata": {},
   "source": [
    "\n",
    "\n",
    "On peut alors utiliser la méthode `Axes.plot`:\n",
    "\n",
    "```bash\n",
    "plot(x, y, format1, x2, y2, format2, ...)\n",
    "```\n",
    "\n",
    "sur l'axe souhaité, ici un seul, (`ax`) pour dessiner des données:"
   ]
  },
  {
   "cell_type": "code",
   "execution_count": null,
   "metadata": {},
   "outputs": [],
   "source": [
    "fig, ax = plt.subplots()  # Create a figure containing a single axes.\n",
    "ax.plot([1, 2, 3, 4], [1, 4, 2, 3]);  # Plot some data on the axes.\n",
    "\n",
    "type(ax)"
   ]
  },
  {
   "cell_type": "markdown",
   "metadata": {},
   "source": [
    "\n",
    "# Propriétés Axes\n",
    "\n",
    "`ax` est un objet (~structure en C + méthodes) contenant toutes les propriétés et les méthodes nécessaires pour manipuler vos graphs :\n",
    "\n",
    "- Titre, légendes\n",
    "- Échelle x et y\n",
    "- Couleur \n",
    "\n",
    "[API Axes](https://matplotlib.org/stable/api/axes_api.html)"
   ]
  },
  {
   "cell_type": "markdown",
   "metadata": {},
   "source": [
    "Modifions le titre du graph, et nom des axes.\n",
    "\n"
   ]
  },
  {
   "cell_type": "code",
   "execution_count": null,
   "metadata": {},
   "outputs": [],
   "source": [
    "fig, ax = plt.subplots()  # Create a figure containing a single axes.\n",
    "ax.plot([1, 2, 3, 4], [1, 4, 2, 3]);  # Plot some data on the axes.\n",
    "\n",
    "# Titre\n",
    "ax.set_title(\"Hello Python\")\n",
    "\n",
    "# Tire Axes\n",
    "ax.set_xlabel(\"x\")\n",
    "ax.set_ylabel(\"y\")\n",
    "\n",
    "# Echelle\n",
    "#   [xmin, xmax, ymin, ymax]\n",
    "ax.axis([0, 5, 0, 5])"
   ]
  },
  {
   "cell_type": "markdown",
   "metadata": {},
   "source": [
    "Une graphe (tracé) contient plusieurs propriétés en fonction du [type de graphe](https://matplotlib.org/stable/api/axes_api.html#plotting).\n",
    "\n",
    "Pour une graphe **2D (x, y)**, on peut définir ces propriétés **au moment du `plot`.**\n",
    "\n",
    "**Propriétés courantes**\n",
    "\n",
    "- `marker` = Marqueur\n",
    "- `linestyle`= Type\n",
    "- `color` = Couleur ligne\n",
    "- `label` = Légende (nom du graphe)\n",
    "- `linewidth` = Épaisseur\n"
   ]
  },
  {
   "cell_type": "code",
   "execution_count": null,
   "metadata": {},
   "outputs": [],
   "source": [
    "x = [1, 2, 3, 4]\n",
    "y = [1, 4, 2, 3]\n",
    "fig, ax = plt.subplots()\n",
    "ax.plot(x,y,marker = \"s\", color=\"r\", linestyle=\":\")"
   ]
  },
  {
   "cell_type": "markdown",
   "metadata": {},
   "source": [
    "**Quelques marqueurs:**\n",
    "\n",
    "- `\".\"` : Point\n",
    "- `\"o\"` : Cercle\n",
    "- `\"^\"` : Triangle \n",
    "- `\"s\"` : Carré\n",
    "\n",
    "**Quelques couleurs**\n",
    "\n",
    "- `\"r\"` : Rouge ou `(1,0,0)`\n",
    "- `\"g\"` : Vert ou `\"#00ff00\"`\n",
    "- `\"b\"` : Bleu\n",
    "- `\"k\"` : Noir\n",
    "\n",
    "**Quelques styles de ligne:**\n",
    "\n",
    "- `\"-\"` : Solide ou `\"solid\"`\n",
    "- `\":\"` : Pointillée ou `\"solid\"`\n",
    "- `\"--\"`: Tirets\n",
    "- `\"-.\"`: Point-Tiret\n"
   ]
  },
  {
   "cell_type": "markdown",
   "metadata": {},
   "source": [
    "C'est long :weary:, heuresement on peut utiliser un format court (`fmt`).\n",
    "\n",
    "```bash\n",
    "fmt = '[marker][colot][linestyle]'\n",
    "# exemple\n",
    "fmt = 'sr:' \n",
    "```"
   ]
  },
  {
   "cell_type": "code",
   "execution_count": null,
   "metadata": {},
   "outputs": [],
   "source": [
    "x = [1, 2, 3, 4]\n",
    "y = [1, 4, 2, 3]\n",
    "fig, ax = plt.subplots()\n",
    "ax.plot(x,y,'sr:')"
   ]
  },
  {
   "cell_type": "markdown",
   "metadata": {},
   "source": [
    "Pour les autres propriétés, comme la légende (`label`), nous somme obligés de définir la propriété d'une manière explicite."
   ]
  },
  {
   "cell_type": "code",
   "execution_count": null,
   "metadata": {},
   "outputs": [],
   "source": [
    "x = [1, 2, 3, 4]\n",
    "y = [1, 4, 2, 3]\n",
    "fig, ax = plt.subplots()\n",
    "ax.plot(x, y, 'sr:',  label=\"Data 1\")\n",
    "ax.legend()"
   ]
  },
  {
   "cell_type": "markdown",
   "metadata": {},
   "source": [
    "# Autres Propriétés\n",
    "\n",
    "- Grilles\n",
    "- Taille\n",
    "- Échelle "
   ]
  },
  {
   "cell_type": "code",
   "execution_count": null,
   "metadata": {},
   "outputs": [],
   "source": [
    "x = [1, 2, 3, 4]\n",
    "y = [10, 400, 2000, 8000]\n",
    "fig, ax = plt.subplots(figsize=(3, 5))\n",
    "ax.plot(x, y, 'ok-', label=\"Data 1\")\n",
    "ax.grid(True) \n",
    "ax.set_xscale(\"linear\")\n",
    "ax.set_yscale(\"log\")"
   ]
  },
  {
   "cell_type": "markdown",
   "metadata": {},
   "source": [
    "#  Multi-graphes \n",
    "\n",
    "Pour ajouter plusieurs séries de données sur un **même graphique** (Axe). Il suffit d'ajouter la nouvelle séries lors de la création de la figure :"
   ]
  },
  {
   "cell_type": "code",
   "execution_count": null,
   "metadata": {},
   "outputs": [],
   "source": [
    "x  = [1, 2, 3, 4]\n",
    "y1 = [1, 4, 2, 3]\n",
    "y2 = [2, 1, 5, 6]\n",
    "fig, ax = plt.subplots()\n",
    "ax.plot(x, y1, 'sr:', x, y2, 'ok-')"
   ]
  },
  {
   "cell_type": "markdown",
   "metadata": {},
   "source": [
    " Mais la gestion des légendes et des propriétés de chaque courbe devient difficile."
   ]
  },
  {
   "cell_type": "markdown",
   "metadata": {},
   "source": [
    "\n",
    "- Une par une :"
   ]
  },
  {
   "cell_type": "code",
   "execution_count": null,
   "metadata": {},
   "outputs": [],
   "source": [
    "x  = [1, 2, 3, 4]\n",
    "y1 = [1, 4, 2, 3]\n",
    "y2 = [2, 1, 5, 6]\n",
    "fig, ax = plt.subplots()\n",
    "ax.plot(x, y1, 'sr:', label=\"Data 1\")\n",
    "ax.plot(x, y2, 'ok-', label=\"Data 2\")\n",
    "ax.legend()"
   ]
  },
  {
   "cell_type": "markdown",
   "metadata": {},
   "source": [
    "Pour ajouter plusieurs séries de données sur un **des graphes différentes** (Axes). Mais sur la **même figure**, on utilise la version généralisé de `plt.subplots()`.\n",
    "\n",
    "```python\n",
    "# nrows : nombre d'axes (vertical) \n",
    "# ncols : nombre d'axes (horizontal)\n",
    "# nrows=ncols=1 par défaut.\n",
    "plt.subplots(nrows, ncols)\n",
    "```\n",
    "\n",
    "**Exemple :**"
   ]
  },
  {
   "cell_type": "code",
   "execution_count": null,
   "metadata": {},
   "outputs": [],
   "source": [
    "fig, axs = plt.subplots(3,2)\n",
    "axs[0,0].text(0.40, 0.45, \"axs[0,0]\", fontsize=12)\n",
    "axs[0,1].text(0.40, 0.45, \"axs[0,1]\", fontsize=12)\n",
    "axs[1,0].text(0.40, 0.45, \"axs[1,0]\", fontsize=12)\n",
    "axs[1,1].text(0.40, 0.45, \"axs[1,1]\", fontsize=12)\n",
    "axs[2,0].text(0.40, 0.45, \"axs[2,0]\", fontsize=12)\n",
    "axs[2,1].text(0.40, 0.45, \"axs[2,1]\", fontsize=12)"
   ]
  },
  {
   "cell_type": "markdown",
   "metadata": {},
   "source": [
    "**Un autre exemple :**"
   ]
  },
  {
   "cell_type": "code",
   "execution_count": null,
   "metadata": {},
   "outputs": [],
   "source": [
    "x  = [1, 2, 3, 4]\n",
    "y1 = [1, 4, 2, 3]\n",
    "y2 = [2, 1, 5, 6]\n",
    "fig, axs = plt.subplots(1,2)\n",
    "axs[0].plot(x, y1, 'sr:', label=\"Data 1\")\n",
    "axs[1].plot(x, y2, 'ok-', label=\"Data 2\")\n",
    "for ax in axs:\n",
    "  ax.legend()"
   ]
  },
  {
   "cell_type": "code",
   "execution_count": null,
   "metadata": {},
   "outputs": [],
   "source": [
    "fig = plt.figure()\n",
    "# subplot(taille_x, taille_y, position)\n",
    "fig.add_subplot(1, 2, 1)  # taille(1,2) position(1)\n",
    "fig.add_subplot(2, 2, 2)\n",
    "fig.add_subplot(2, 2, 4)\n",
    "plt.show()"
   ]
  },
  {
   "cell_type": "markdown",
   "metadata": {},
   "source": [
    "##  Matplotlib & NumPy\n",
    "\n",
    "On peut utiliser les `array` NumPy avec les méthodes fournis par Matplotlib. C'est logique et fortement conseillé.  \n",
    "\n",
    "- **NumPy** : Manipule les données \n",
    "- **Matplotlib** : Graphique le résultat \n",
    "\n",
    "**Exemple**\n"
   ]
  },
  {
   "cell_type": "code",
   "execution_count": null,
   "metadata": {},
   "outputs": [],
   "source": [
    "x = np.arange(0,2.0*np.pi, 0.25)\n",
    "fig, ax = plt.subplots()\n",
    "ax.plot(x,np.sin(x),'xr-', label='sin')\n",
    "ax.plot(x,np.cos(x),'ob-', label='cos')\n",
    "ax.plot(x,np.cos(x)+np.sin(x),'^g:', label='sin+cos')\n",
    "ax.legend()"
   ]
  },
  {
   "cell_type": "markdown",
   "metadata": {},
   "source": [
    "\n",
    "## Un exemple complet"
   ]
  },
  {
   "cell_type": "code",
   "execution_count": null,
   "metadata": {},
   "outputs": [],
   "source": [
    "# Importation biblioteques\n",
    "import matplotlib as mpl\n",
    "import matplotlib.pyplot as plt\n",
    "import numpy as np\n",
    "\n",
    "# données\n",
    "x = np.arange(0,2.0*np.pi, 0.25)\n",
    "fig, ax = plt.subplots()\n",
    "ax.set_title('Sinus and Cosinus')\n",
    "ax.set_xlabel('x')\n",
    "ax.set_ylabel('y')\n",
    "ax.plot(x,np.sin(x),'xr-', label='sin')\n",
    "ax.plot(x,np.cos(x),'ob-', label='cos')\n",
    "y = np.cos(x)+np.sin(x)\n",
    "ax.plot(x,y,'^g:',label='sin+cos')\n",
    "ax.grid(True)\n",
    "ax.legend()\n",
    "\n",
    "fig.savefig('final.pdf', format='pdf')"
   ]
  },
  {
   "cell_type": "markdown",
   "metadata": {},
   "source": [
    "# Pour aller plus loin\n",
    "\n",
    "Matplotlib et NumPy sont des outils très puissants et des projets énormes. Nous n'avons fait que survoler la surface :mountain:. \n",
    "\n",
    "À vous de plonger dans la documentation et de parcourir les nombreux exemples. \n",
    "\n",
    "- [Matplotlib cheat sheet](https://matplotlib.org/cheatsheets/_images/cheatsheets-1.png)\n",
    "- [Matplotlib exemples](https://matplotlib.org/stable/gallery/index)\n",
    "- [Matplotlib tutoriels](https://matplotlib.org/stable/tutorials/index.html)\n",
    "- [Numpy User Guide](https://numpy.org/doc/stable/user/index.html)\n",
    "\n",
    "**Bon codage**"
   ]
  }
 ],
 "metadata": {
  "interpreter": {
   "hash": "79c940ecee13266736e71f95fa910a70a86f62a4e73bd4950eeca69aeb976a10"
  },
  "kernelspec": {
   "display_name": "Python 3.9.12 64-bit",
   "language": "python",
   "name": "python3"
  },
  "language_info": {
   "codemirror_mode": {
    "name": "ipython",
    "version": 3
   },
   "file_extension": ".py",
   "mimetype": "text/x-python",
   "name": "python",
   "nbconvert_exporter": "python",
   "pygments_lexer": "ipython3",
   "version": "3.9.12"
  },
  "orig_nbformat": 4
 },
 "nbformat": 4,
 "nbformat_minor": 2
}
