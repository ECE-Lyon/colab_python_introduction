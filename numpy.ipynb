{
 "cells": [
  {
   "cell_type": "markdown",
   "metadata": {},
   "source": [
    "\n",
    "# Python\n",
    "\n",
    "## Numpy & Matplotlib\n",
    "\n",
    "**Plan**\n",
    "\n",
    "- Bibliothèques\n",
    "- Numpy\n",
    "- Matplotlib\n",
    "- Notebooks\n",
    "\n",
    "## Bibliothèques\n",
    "\n",
    "- Les bibliothèques offrent de nombreuses fonctions et variables.\n",
    "- Il existe différents types de bibliothèques :\n",
    "  - Bibliothèque standard (native au Python) :link: [Documentation](https://docs.python.org/fr/3/library/index.html)\n",
    "  - Bibliothèques personnelles (nos fichiers) :link: [Tuto](https://docs.python.org/fr/3/tutorial/modules.html)\n",
    "  - Bibliothèques externes\n",
    "- Nous pouvons les importer dans nos scripts avec l'instruction **`import`**.\n",
    "\n",
    "**Exemple:**"
   ]
  },
  {
   "cell_type": "code",
   "execution_count": null,
   "metadata": {},
   "outputs": [],
   "source": [
    "import numpy as np\n",
    "a = np.array([1, 2, 3])\n",
    "print(a)"
   ]
  },
  {
   "cell_type": "markdown",
   "metadata": {},
   "source": [
    "## Bibliothèque standard\n",
    "\n",
    "Le langage Python s'accompagne de nombreux **paquets** :package:, offrant différentes fonctions et variables.\n",
    "\n",
    "- Certaines de ces fonctions sont dites **natives**. Elles sont utilisables immédiatement : `sum()`, `abs()`,\n",
    "- Les autres nécessité l’importation de leur bibliothèque d’appartenance, aussi appelées **modules**, exemple :"
   ]
  },
  {
   "cell_type": "code",
   "execution_count": null,
   "metadata": {},
   "outputs": [],
   "source": [
    "import random\n",
    "print(random.random())"
   ]
  },
  {
   "cell_type": "markdown",
   "metadata": {},
   "source": [
    "Lors de l'import, on peut créer un **alias** de nom (`as`) à ce que l'on inclue :"
   ]
  },
  {
   "cell_type": "code",
   "execution_count": null,
   "metadata": {},
   "outputs": [],
   "source": [
    "from random import randint as ri, uniform # randint peut être appelé ri\n",
    "\n",
    "n = ri(5, 15)           # entier entre 5 et 15\n",
    "print(n)\n",
    "n = uniform(2, 6.5)         # réel entre 2.0 et 6.5\n",
    "print(n)"
   ]
  },
  {
   "cell_type": "markdown",
   "metadata": {},
   "source": [
    "\n",
    "On peut également créer un alias au paquet lui-même :"
   ]
  },
  {
   "cell_type": "code",
   "execution_count": null,
   "metadata": {},
   "outputs": [],
   "source": [
    "import random as rd\n",
    "\n",
    "rd.randint(0, 10)"
   ]
  },
  {
   "cell_type": "markdown",
   "metadata": {},
   "source": [
    "## Math\n",
    "\n",
    "Ce module/bibliothèque fournit l'accès aux fonctions mathématiques standards: fonctions arithmétiques, logarithme et exponentielles, trigonométriques, etc...\n",
    "\n",
    "**Importation bibliothèque** :link: [Documentation](https://docs.python.org/fr/3/library/math.html)\n",
    "\n",
    "Exemple:"
   ]
  },
  {
   "cell_type": "code",
   "execution_count": null,
   "metadata": {},
   "outputs": [],
   "source": [
    "import math # as mt (alias)\n",
    "\n",
    "print ('Estimation pi:', 4*math.atan(1)) # estimation de pi\n",
    "print ('Python constante:', math.pi)       # constante pi"
   ]
  },
  {
   "cell_type": "markdown",
   "metadata": {},
   "source": [
    "# Math : Fonctions utiles\n",
    "\n",
    "| Fonction          | Python            | Algorithmique     | Résultat            |\n",
    "| ----------------- | ----------------- | ----------------- | ------------------- |\n",
    "| constante $\\pi$   | `math.pi`         | factorial         | `math.factorial(x)` |\n",
    "| constante $e$     | `math.e`          | valeur absolue    | `math.fabs(x)`      |\n",
    "| puissance         | `math.pow(x, y) ` | arrondi sup       | `math.ceil(x)`      |\n",
    "| racine carrée     | `math.sqrt(x)`    | arrondi inf       | `math.floor(x)`     |\n",
    "| exponentielle     | `math.exp(x)`     | log base 10       | `math.log10(x)`     |\n",
    "| cosinus           | `math.cos(x)`     | arc cosinus       | `math.acos(x)`      |\n",
    "| radians en degrés | `math.degrees(x)` | radians en degrés | `math.radians(x)`   |\n",
    "\n",
    "**Exemple :** factorial\n",
    "\n",
    "$$ n! = \\prod_{k=1}^{n} k$$"
   ]
  },
  {
   "cell_type": "code",
   "execution_count": null,
   "metadata": {},
   "outputs": [],
   "source": [
    "import math # as mt (alias)\n",
    "print(math.factorial(5))"
   ]
  },
  {
   "cell_type": "markdown",
   "metadata": {},
   "source": [
    "Évaluez : \n",
    "\n",
    "$$ x = sin(\\frac \\pi 2)"
   ]
  },
  {
   "cell_type": "code",
   "execution_count": null,
   "metadata": {},
   "outputs": [],
   "source": [
    "## pi =  math.pi"
   ]
  },
  {
   "cell_type": "markdown",
   "metadata": {},
   "source": [
    "## Numpy\n"
   ]
  },
  {
   "cell_type": "markdown",
   "metadata": {},
   "source": [
    "Ce module est utile pour les tableaux (mono et multidimensionnels) et leurs manipulations (a.k.a. **Algèbre linéaire** )\n",
    "\n",
    "Avantage des tableaux par rapport aux listes :\n",
    "\n",
    "- Plus rapide\n",
    "- Moins de place mémoire\n",
    "- Optimal pour les calculs scientifiques\n",
    "\n",
    "**Importation bibliothèque** :link: [Documentation](https://numpy.org/doc/stable/)"
   ]
  },
  {
   "cell_type": "markdown",
   "metadata": {},
   "source": [
    "Exemple:\n",
    "\n",
    "**Math**\n",
    "  $$\n",
    "  \\mathbf{x}=\\left[\\begin{array}{c}\n",
    "  1 \\\\\n",
    "  2 \\\\\n",
    "  3\n",
    "  \\end{array}\\right], \\mathbf{y}=\\left[\\begin{array}{c}\n",
    "  4 \\\\\n",
    "  5 \\\\\n",
    "  6\n",
    "  \\end{array}\\right], \\mathbf{z}=\\mathbf{x} + \\mathbf{y} = \\left[\\begin{array}{c}\n",
    "  5 \\\\\n",
    "  7 \\\\\n",
    "  9\n",
    "  \\end{array}\\right]\n",
    "  $$\n",
    "\n",
    "**Python - listes**"
   ]
  },
  {
   "cell_type": "markdown",
   "metadata": {},
   "source": [
    "**Python: listes**"
   ]
  },
  {
   "cell_type": "code",
   "execution_count": null,
   "metadata": {},
   "outputs": [],
   "source": [
    "x = [1, 2, 3] \n",
    "y = [4, 5, 6]  \n",
    "print(x + y) # C'est une concatenation de listes !"
   ]
  },
  {
   "cell_type": "markdown",
   "metadata": {},
   "source": [
    "**Python - Numpy**"
   ]
  },
  {
   "cell_type": "code",
   "execution_count": null,
   "metadata": {},
   "outputs": [],
   "source": [
    "import numpy as np\n",
    "\n",
    "x = np.array([1, 2, 3]) \n",
    "y = np.array([4, 5, 6])  \n",
    "print('z = x + y =', x + y)   # Somme de vecteurs "
   ]
  },
  {
   "cell_type": "code",
   "execution_count": null,
   "metadata": {},
   "outputs": [],
   "source": [
    "import numpy\n",
    "a = numpy.array([1, 2, 3])\n",
    "\n",
    "print(a)"
   ]
  },
  {
   "cell_type": "code",
   "execution_count": null,
   "metadata": {},
   "outputs": [],
   "source": [
    "x = [1, 2, 3] \n",
    "y = [4, 5, 6]  \n",
    "print(x + y)"
   ]
  },
  {
   "cell_type": "markdown",
   "metadata": {},
   "source": [
    "Utilisez un alias pour numpy, **`np`** par exemple."
   ]
  },
  {
   "cell_type": "code",
   "execution_count": null,
   "metadata": {},
   "outputs": [],
   "source": [
    "import numpy as np\n",
    "a = np.array([1, 2, 3])\n",
    "\n",
    "print(a)"
   ]
  },
  {
   "cell_type": "markdown",
   "metadata": {},
   "source": [
    "### Initialisation de tableaux\n",
    "\n",
    "Numpy propose différentes manières pour créer des tableaux:\n",
    "\n",
    "- **Tableaux explicites**: Les valeurs du tableau sont données explicitement.\n",
    "- **Tableaux auto générés** : On indique les limites inférieures et supérieures et le pas ou le nombre de valeurs souhaitées. \n",
    "- **Tableaux spéciaux** : Les valeurs sont définis par `Numpy` à partir des fonctions pré-définies.\n"
   ]
  },
  {
   "cell_type": "markdown",
   "metadata": {},
   "source": [
    "**Tableaux explicites**: **`array([List])`**"
   ]
  },
  {
   "cell_type": "code",
   "execution_count": null,
   "metadata": {},
   "outputs": [],
   "source": [
    "# 1 Dimension (vecteur)\n",
    "x = np.array([1, 2, 3, 4, 5, 6])\n",
    "print('x = ',x)\n",
    "# 2 Dimensions (matrice)\n",
    "m = np.array([[1, 2, 3, 4], [5, 6, 7, 8], [9, 10, 11, 12]])\n",
    "print('m = ')\n",
    "print(m)"
   ]
  },
  {
   "cell_type": "markdown",
   "metadata": {},
   "source": [
    "On peut initialiser un Array numpy à partir d'un liste standard."
   ]
  },
  {
   "cell_type": "code",
   "execution_count": null,
   "metadata": {},
   "outputs": [],
   "source": [
    "# Liste\n",
    "x = [1, 2, 3, 4, 5, 6]\n",
    "\n",
    "# Array numpy\n",
    "y = np.array(x)\n",
    "print('type(x):', type(x),'type(y):', type(y))\n",
    "print(y)"
   ]
  },
  {
   "cell_type": "markdown",
   "metadata": {},
   "source": [
    "\n",
    "**Tableaux auto générés** : **`np.linspace(binf, bsup, nbre)`**\n",
    "\n",
    "Création d’un tableau dont les valeur sont dans `[b_inf, b_sup]`, il y a `nbre` valeurs dans ce tableau."
   ]
  },
  {
   "cell_type": "code",
   "execution_count": null,
   "metadata": {},
   "outputs": [],
   "source": [
    "x = np.linspace(1, 10, 10) # bsup est inclus\n",
    "print(x)"
   ]
  },
  {
   "cell_type": "markdown",
   "metadata": {},
   "source": [
    "Pratique lorsque l'on veut discrétiser un intervalle avec un **nombre donné** de valeurs sans se soucier du **pas**."
   ]
  },
  {
   "cell_type": "markdown",
   "metadata": {},
   "source": [
    "**Tableaux auto générés** : **`np.arange(binf, bsup, pas)`**\n",
    "\n",
    "Création d’un tableau dont les valeur sont dans `[binf, bsup[`. Chaque valeur est séparée d’un `pas`.\n",
    "\n",
    "Pratique lorsque l'on veut discrétiser un intervalle avec des valeurs séparées par un **pas donné**.\n"
   ]
  },
  {
   "cell_type": "code",
   "execution_count": null,
   "metadata": {},
   "outputs": [],
   "source": [
    "y = np.arange(1,10,1) # bsup n'est pas inclus\n",
    "print(y)"
   ]
  },
  {
   "cell_type": "markdown",
   "metadata": {},
   "source": [
    "\n",
    "**Tableaux spéciaux** : **`np.zeros(dim, type (optionnel))`**\n",
    "\n",
    "Création d'un tableau avec des dimensions données.\n"
   ]
  },
  {
   "cell_type": "code",
   "execution_count": null,
   "metadata": {},
   "outputs": [],
   "source": [
    "\n",
    "x = np.zeros(5)  # Vecteur: dim = 5 (int), dtype=float (par défaut)\n",
    "m = np.zeros((3, 2) , dtype=int) # Matrice: dim = (N,M) (tuple de ints)\n",
    "print('x = ', x)\n",
    "print('m = ')\n",
    "print( m)\n"
   ]
  },
  {
   "cell_type": "markdown",
   "metadata": {},
   "source": [
    "**Tableaux spéciaux** : **`np.ones(taille, type (optionnel))`**"
   ]
  },
  {
   "cell_type": "code",
   "execution_count": null,
   "metadata": {},
   "outputs": [],
   "source": [
    "# Création d'un tableau de 0 de N lignes et M colonnes\n",
    "x = np.ones(10)  # float par défaut\n",
    "m = np.ones((2, 2)) # float par défaut\n",
    "print('x =', x)\n",
    "print('m =')\n",
    "print(m)"
   ]
  },
  {
   "cell_type": "markdown",
   "metadata": {},
   "source": [
    "**Tableaux spéciaux** :\n",
    "\n",
    "| NumPy commande           | Description                   |\n",
    "| ------------------------ | ----------------------------- |\n",
    "| `np.zeros(dim, type)`    | Tableau rempli de `0`           |\n",
    "| `np.ones(dim, type)`     | Tableau rempli de `1`           |\n",
    "| `np.empty(dim) `         | Tableau vide (non initialisé) |\n",
    "| `np.full(dim, valeur) `  | Tableau rempli de `valeur`    |\n",
    "| `np.random.random(dim) ` | Tableau aléatoire             |\n",
    "| `np.eye(dim, type) `     | Matrice identité              |\n"
   ]
  },
  {
   "cell_type": "markdown",
   "metadata": {},
   "source": [
    "### Propriétés des tableaux\n",
    "\n",
    "- **`ndarray.ndim`** : indique le nombre de dimensions, du tableau (1=vecteur, 2=Matrice)\n",
    "- **`ndarray.size`** : indique le nombre total d'éléments du tableau.\n",
    "- **`ndarray.shape`**: affiche un tuple d'entiers qui indiquent le nombre de lignes et colonnes."
   ]
  },
  {
   "cell_type": "code",
   "execution_count": null,
   "metadata": {},
   "outputs": [],
   "source": [
    "x = np.array([1, 2, 3, 4, 5]) # Vecteur 1x5\n",
    "m = np.array([[1, 2],[3, 4]]) # Matrice 2x2\n",
    "\n",
    "print('dim(x) = ', x.ndim,', size(x) = ', x.size, ', shape(x) = ', x.shape)\n",
    "print('dim(m) = ', m.ndim,', size(m) = ', m.size, ', shape(m) = ', m.shape)"
   ]
  },
  {
   "cell_type": "markdown",
   "metadata": {},
   "source": [
    "### Redimensionner un tableau\n",
    "\n",
    "- La forme (**shape**) d'un tableau peut être modifiée à l'aide de diverses commandes. \n"
   ]
  },
  {
   "cell_type": "code",
   "execution_count": null,
   "metadata": {},
   "outputs": [],
   "source": [
    "a = np.random.random((2,2)) # génère une matrice 3x3 aléatoire\n",
    "print(a)\n",
    "print(a.ravel())"
   ]
  },
  {
   "cell_type": "code",
   "execution_count": null,
   "metadata": {},
   "outputs": [],
   "source": [
    "x = np.arange(9) # génère un vecteur [0 1 2 3 ... 8]\n",
    "print(x)"
   ]
  },
  {
   "cell_type": "markdown",
   "metadata": {},
   "source": [
    "- `x.resize((2,4)) ` redimensionne le vecteur en une matrice 3x3"
   ]
  },
  {
   "cell_type": "code",
   "execution_count": null,
   "metadata": {},
   "outputs": [],
   "source": [
    "x.resize((2,4))\n",
    "print(x)"
   ]
  },
  {
   "cell_type": "markdown",
   "metadata": {},
   "source": [
    "### Accès aux éléments d’un tableau\n",
    "\n",
    "L’accès aux éléments d’un tableau est identique à celui des listes, se fait selon :\n",
    "\n",
    "- Indexing : accès par les **indices** (position)\n",
    "- Slicing : accès par **sous-séquences**\n",
    "\n",
    "Accès par **indice** (**positif** ou **négatif**)"
   ]
  },
  {
   "cell_type": "code",
   "execution_count": null,
   "metadata": {},
   "outputs": [],
   "source": [
    "tab      =  np.array([  10 ,  20 ,  30 ,  40 ,  50]) \n",
    "# indice positif:    |  0  |  1  |  2  |  3  |  4  |\n",
    "# indice négatif:    | -5  | -4  | -3  | -2  | -1  |\n",
    "print('tab[0] :', tab[0])  # premier élément\n",
    "print('tab[2] :', tab[2])\n",
    "print('tab[-2]:', tab[-3])\n",
    "print('tab[-1]:', tab[-1]) # dernière élément"
   ]
  },
  {
   "cell_type": "markdown",
   "metadata": {},
   "source": [
    "Accès à des **sous-séquences** : `[`**`tranche début`**`:`**`tranche fin`**`:`**`pas`**`]`"
   ]
  },
  {
   "cell_type": "code",
   "execution_count": null,
   "metadata": {},
   "outputs": [],
   "source": [
    "tab      =  np.array([  10 ,  20 ,  30 ,  40 ,  50]) \n",
    "# indice positif:    |  0  |  1  |  2  |  3  |  4  |\n",
    "# indice négatif:    | -5  | -4  | -3  | -2  | -1  |\n",
    "# tranche positive:  0  |  1  |  2  |  3  |  4  |  5\n",
    "# tranche négative: -5  | -4  | -3  | -2  | -1  |  \n",
    "\n",
    "print(tab[0:5:2])  # ou [::2]\n",
    "print(tab[::-1])   # inversion de liste"
   ]
  },
  {
   "cell_type": "code",
   "execution_count": null,
   "metadata": {},
   "outputs": [],
   "source": [
    "print(tab[3:]) \n",
    "print(tab[:3]) \n",
    "print(tab[:-2])\n",
    "print(tab[1:-1])\n",
    "print(tab[::3])\n",
    "print(tab[::-1])\n",
    "print(tab[::-2])"
   ]
  },
  {
   "cell_type": "markdown",
   "metadata": {},
   "source": [
    "**Cas des tableaux de `dim = 2` (matrice)**\n",
    "\n",
    "La même logique est utilisé en utilisant l'operateur d'acces **`[lin,col]`**"
   ]
  },
  {
   "cell_type": "code",
   "execution_count": null,
   "metadata": {},
   "outputs": [],
   "source": [
    "m = np.array([[1,2],[3,4]])\n",
    "\n",
    "print('m11 = ', m[0,0])\n",
    "print('m22 = ', m[1,1])\n",
    "print('1 Ligne = ', m[0,:])\n",
    "print('1 Colonne = ', m[:,0])"
   ]
  },
  {
   "cell_type": "markdown",
   "metadata": {},
   "source": [
    "### Modification d’élément(s)\n",
    "\n",
    "- un élément"
   ]
  },
  {
   "cell_type": "code",
   "execution_count": null,
   "metadata": {},
   "outputs": [],
   "source": [
    "x = np.array([1, 2, 3, 4, 5])\n",
    "\n",
    "x[1]   = 42   # modification de l’élément situé à l’indice 1\n",
    "print(x)"
   ]
  },
  {
   "cell_type": "markdown",
   "metadata": {},
   "source": [
    "- plusieurs éléments "
   ]
  },
  {
   "cell_type": "code",
   "execution_count": null,
   "metadata": {},
   "outputs": [],
   "source": [
    "x[1:4] = 42   # modification des éléments situés de l’indice [1,  4[\n",
    "print(x)"
   ]
  },
  {
   "cell_type": "markdown",
   "metadata": {},
   "source": [
    "### Affichage\n",
    "\n",
    "Le tableau peut être affiche avec la méthode standard **`print()`**\n",
    "\n",
    "**Exemple**\n"
   ]
  },
  {
   "cell_type": "code",
   "execution_count": null,
   "metadata": {},
   "outputs": [],
   "source": [
    "tab=np.array([[1,2],[3,4],[5,6]])\n",
    "\n",
    "print(tab) #affichage du tableau"
   ]
  },
  {
   "cell_type": "markdown",
   "metadata": {},
   "source": [
    "\n",
    "### Parcours tableau à 1 dimension\n",
    "\n",
    "\n",
    "On peut parcourrir un array de la meme façon que le listes: for \n",
    "\n",
    "- Sur les éléments de la liste"
   ]
  },
  {
   "cell_type": "code",
   "execution_count": null,
   "metadata": {},
   "outputs": [],
   "source": [
    "for elt in x :\n",
    "    print(elt)"
   ]
  },
  {
   "cell_type": "markdown",
   "metadata": {},
   "source": [
    "- Sur les indices"
   ]
  },
  {
   "cell_type": "code",
   "execution_count": null,
   "metadata": {},
   "outputs": [],
   "source": [
    "for i in range(0, x.shape[0]): # ou tab.size\n",
    "    print(x[i])"
   ]
  },
  {
   "cell_type": "markdown",
   "metadata": {},
   "source": [
    "### Parcours tableau à 2 dimensions\n",
    "\n",
    "On peut parcourrir un array de la meme façon que le listes: `for`\n",
    "\n",
    "- Sur les éléments de la liste"
   ]
  },
  {
   "cell_type": "code",
   "execution_count": null,
   "metadata": {},
   "outputs": [],
   "source": [
    "m = np.array([[1, 2, 3], [4, 5, 6], [7, 8, 9]])\n",
    "\n",
    "for line in m: \n",
    "    print(line)\n",
    "    for elt in line:\n",
    "        print(elt)  "
   ]
  },
  {
   "cell_type": "markdown",
   "metadata": {},
   "source": [
    "- Sur les indices"
   ]
  },
  {
   "cell_type": "code",
   "execution_count": null,
   "metadata": {},
   "outputs": [],
   "source": [
    "for i in range(0, m.shape[0]):\n",
    "    for j in range(0, m.shape[1]):\n",
    "        print(m[i, j])"
   ]
  },
  {
   "cell_type": "markdown",
   "metadata": {},
   "source": [
    "### Opérations\n",
    "\n",
    "\n",
    "Les arrays NumPy sont des `objets` qui contient des methodes associées et accesibles directement avec :\n",
    "\n",
    "```bash\n",
    "nom_array.nom_methode()\n",
    "\n",
    "```"
   ]
  },
  {
   "cell_type": "code",
   "execution_count": null,
   "metadata": {},
   "outputs": [],
   "source": [
    "m = np.array([[1, 2, 3], [4, 5, 6], [7, 8, 9]])\n",
    "\n",
    "# Addition des éléments du tableau\n",
    "somme = m.sum()\n",
    "print(somme)"
   ]
  },
  {
   "cell_type": "markdown",
   "metadata": {},
   "source": [
    "| Operation  | Description                                 |\n",
    "| ---------- | ------------------------------------------- |\n",
    "| `sum()`    | Addition des éléments du tableau            |\n",
    "| `mean()`   | Moyenne des éléments du tableau             |\n",
    "| `prod()`   | Produit des éléments du tableau             |\n",
    "| `max()`    | Valeur maximale du tableau                  |\n",
    "| `min()`    | Valeur minimale du tableau                  |\n",
    "| `sort()`   | Tri                                         |\n",
    "| `unique()` | Nombre d’occurrences des valeurs du tableau |\n"
   ]
  },
  {
   "cell_type": "markdown",
   "metadata": {},
   "source": [
    "### Algèbre linéaire\n",
    "\n",
    "Les opérateurs **`+`**, **`-`**, **`*`** et **`/`** ont été surchargées dans NumPy afin qu'ils puissent être utilisés de manière \"naturelle\" avec les arrays.\n",
    "\n",
    "\n",
    "**Exemple**\n",
    "\n",
    "- Listes"
   ]
  },
  {
   "cell_type": "code",
   "execution_count": null,
   "metadata": {},
   "outputs": [],
   "source": [
    "x = [1, 2, 3] \n",
    "y = [4, 5, 6]\n",
    "print(x * y) # Erreur"
   ]
  },
  {
   "cell_type": "markdown",
   "metadata": {},
   "source": [
    "**Exemple**\n",
    "\n",
    "- NumPy Array"
   ]
  },
  {
   "cell_type": "code",
   "execution_count": null,
   "metadata": {},
   "outputs": [],
   "source": [
    "x = np.array([1, 2, 3])\n",
    "y = np.array([4, 5, 6])\n",
    "print(x * y)  # Somme de vecteurs"
   ]
  },
  {
   "cell_type": "markdown",
   "metadata": {},
   "source": [
    "On peut utiliser les opérateurs ou bien ses méthodes associées\n",
    "\n",
    "| Opérateur | Méthode Numpy       | Description                 |\n",
    "| :-------: | :------------------ | --------------------------- |\n",
    "|    `+`    | `np.add(x, y) `     | Addition terme par terme    |\n",
    "|    `-`    | `np.subtract(x, y)` | Subtraction terme par terme |\n",
    "|    `*`    | `np.multiply(x, y)` | Produit terme par terme     |\n",
    "|    `/`    | `np.divide(x, y) `  | Division terme par terme    |\n",
    "\n",
    "`x + y` est équivalente à `np.add(x+y)`, avec `x` et `y` deux arrays NumPy. \n",
    "L’opérateur `*` **ne corresponds pas** au produit scalaire, ni au produit matriciel\n",
    "\n",
    "**Exemples**\n",
    "\n",
    "- Cas opérateur `+` avec un vecteur `x` et un scalaire `a`\n",
    "\n",
    "$$(x + a)_{i}=x_{i} + a$$"
   ]
  },
  {
   "cell_type": "code",
   "execution_count": null,
   "metadata": {},
   "outputs": [],
   "source": [
    "x = np.array([1, 2, 3])\n",
    "print(x + 1)"
   ]
  },
  {
   "cell_type": "markdown",
   "metadata": {},
   "source": [
    "- Cas opérateur `/` avec un vecteur `x` et un vecteur `y`\n",
    "\n",
    "$$(x / y)_{i}=x_{i} / y_{i}$$"
   ]
  },
  {
   "cell_type": "code",
   "execution_count": null,
   "metadata": {},
   "outputs": [],
   "source": [
    "x = np.array([1, 2, 3])\n",
    "y = np.array([4, 5, 6])\n",
    "print(x / y)"
   ]
  },
  {
   "cell_type": "markdown",
   "metadata": {},
   "source": [
    "\n",
    "- Cas opérateur `+` avec un vecteur `x` et une matrice `m`\n",
    "\n",
    "$$(m + x)_{ij}=m_{ij} + x_{j}$$ "
   ]
  },
  {
   "cell_type": "code",
   "execution_count": null,
   "metadata": {},
   "outputs": [],
   "source": [
    "x = np.array([1, 2, 3])\n",
    "m = np.ones((3,3))\n",
    "print(m + x)"
   ]
  },
  {
   "cell_type": "markdown",
   "metadata": {},
   "source": [
    "# Algèbre linéaire\n",
    "\n",
    "Les opérations courantes  d’algèbre linéaire sont:\n",
    "\n",
    "- **Norme Euclidienne** : `np.linalg.norm(x)`\n",
    "\n",
    "$$ \\|\\mathbf{x}\\|_{2}={\\sqrt {|x_{1}|^{2}+\\ldots +|x_{n}|^{2}}} $$"
   ]
  },
  {
   "cell_type": "code",
   "execution_count": null,
   "metadata": {},
   "outputs": [],
   "source": [
    "x = np.array([1, 2, 3])\n",
    "\n",
    "print(np.linalg.norm(x) )"
   ]
  },
  {
   "cell_type": "markdown",
   "metadata": {},
   "source": [
    "- **Produit scalaire** : `np.dot(x,y)`\n",
    "\n",
    "$$ \\mathbf{x} \\cdot \\mathbf{y} =\\sum _{i=1}^{n}{x}_{i}{y}_{i}={x}_{1}{y}_{1}+{x}_{2}{y}_{2}+\\cdots +{x}_{n}{y}_{n} $$"
   ]
  },
  {
   "cell_type": "code",
   "execution_count": null,
   "metadata": {},
   "outputs": [],
   "source": [
    "x = np.array([1, 2, 3])\n",
    "y = np.array([4, 5, 6])\n",
    "\n",
    "print(np.dot(x,y) )"
   ]
  },
  {
   "cell_type": "markdown",
   "metadata": {},
   "source": [
    "- **Produit vectoriel**: `np.cross(x,y)`\n",
    "\n",
    "$$ \\mathbf {x\\times y} =(x_{2}y_{3}-x_{3}y_{2})\\mathbf {i} +(x_{3}y_{1}-x_{1}y_{3})\\mathbf {j} +(x_{1}y_{2}-x_{2}y_{1})\\mathbf {k} $$"
   ]
  },
  {
   "cell_type": "code",
   "execution_count": null,
   "metadata": {},
   "outputs": [],
   "source": [
    "x = np.array([1, 2, 3])\n",
    "y = np.array([4, 5, 6])\n",
    "\n",
    "print(np.cross(x,y) )"
   ]
  },
  {
   "cell_type": "markdown",
   "metadata": {},
   "source": [
    "- Produit matricielle `np.matmul(a,b)` ou l’opérateur `@`\n",
    " \n",
    "$$ \\mathbf {A}\\mathbf{B} \\quad \\text{or} \\quad \\mathbf {A} \\mathbf{x} $$ "
   ]
  },
  {
   "cell_type": "code",
   "execution_count": null,
   "metadata": {},
   "outputs": [],
   "source": [
    "a = np.array([[1, 0], [0, 1]])\n",
    "b = np.array([[4, 1], [2, 2]])\n",
    "\n",
    "print(np.matmul(a, b) )"
   ]
  },
  {
   "cell_type": "code",
   "execution_count": null,
   "metadata": {},
   "outputs": [],
   "source": [
    "a = np.array([[1, 0], [0, 1]])\n",
    "x = np.array([1, 2])\n",
    "\n",
    "print(a@x)"
   ]
  },
  {
   "cell_type": "markdown",
   "metadata": {},
   "source": [
    "- Produit scalaire : `np.linalg.det(a)`\n",
    "\n",
    "$$ |A|={\\begin{vmatrix}a&b\\\\c&d\\end{vmatrix}}=ad-bc $$"
   ]
  },
  {
   "cell_type": "code",
   "execution_count": null,
   "metadata": {},
   "outputs": [],
   "source": [
    "a = np.array([[1, 2], [3, 4]])\n",
    "\n",
    "print(np.linalg.det(a) )\n"
   ]
  },
  {
   "cell_type": "markdown",
   "metadata": {},
   "source": [
    "- **Inverse** : `np.linalg.inv(a)`\n",
    " \n",
    "$$ \\mathbf{A}\\mathbf{x}=\\mathbf{y} \\iff \\mathbf{x}=\\mathbf{A}^{-1}\\mathbf{y} $$"
   ]
  },
  {
   "cell_type": "code",
   "execution_count": null,
   "metadata": {},
   "outputs": [],
   "source": [
    "a = np.array([[1., 2.], [3., 4.]])\n",
    "\n",
    "print(np.linalg.inv(a) )"
   ]
  }
 ],
 "metadata": {
  "interpreter": {
   "hash": "767d51c1340bd893661ea55ea3124f6de3c7a262a8b4abca0554b478b1e2ff90"
  },
  "kernelspec": {
   "display_name": "Python 3.8.10 64-bit",
   "language": "python",
   "name": "python3"
  },
  "language_info": {
   "codemirror_mode": {
    "name": "ipython",
    "version": 3
   },
   "file_extension": ".py",
   "mimetype": "text/x-python",
   "name": "python",
   "nbconvert_exporter": "python",
   "pygments_lexer": "ipython3",
   "version": "3.8.10"
  }
 },
 "nbformat": 4,
 "nbformat_minor": 2
}
