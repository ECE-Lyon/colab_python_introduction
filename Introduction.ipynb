{
 "cells": [
  {
   "cell_type": "markdown",
   "id": "f9481ddc-3334-4e76-854f-07c9bfe07c77",
   "metadata": {},
   "source": [
    "# Python\n",
    "\n",
    "## _Un langage simple et épuré_"
   ]
  },
  {
   "cell_type": "code",
   "execution_count": null,
   "id": "028db449",
   "metadata": {},
   "outputs": [],
   "source": [
    "print('Hello World!')"
   ]
  },
  {
   "cell_type": "markdown",
   "id": "f12ef573",
   "metadata": {},
   "source": [
    "## Où  écrire le code ?\n",
    "\n",
    "Il est possible de créer une fonction `main()`, mais rien ne l'appellera si on ne le fait pas nous-même !"
   ]
  },
  {
   "cell_type": "code",
   "execution_count": null,
   "id": "57bfe8c7",
   "metadata": {},
   "outputs": [],
   "source": [
    "def main():\n",
    "    i = 0\n",
    "    print('Hello world!')\n",
    "    print('i vaut :', i)\n",
    "\n",
    "main() # appel de la fonction main()"
   ]
  },
  {
   "cell_type": "markdown",
   "id": "34a927d8",
   "metadata": {},
   "source": [
    "# Du C au Python...\n",
    "\n",
    "- Pas d'accolades **`{}`** , c'est l'**indentation** et **`:`** qui délimitent les **blocs d'instructions**.\n",
    "- Pas de point-virgule **`;`**, **une instruction par ligne**.\n",
    "- Parenthèses **`()`** facultatives, à utiliser pour les fonctions et les priorisations dans les calculs uniquement."
   ]
  },
  {
   "cell_type": "code",
   "execution_count": null,
   "id": "aad7cf6c",
   "metadata": {},
   "outputs": [],
   "source": [
    "i = 0\n",
    "while i <= 100:\n",
    "    i = (i + 2) * 3\n",
    "    print('i = ', i)\n",
    "print('Valeur finale de i : ', i)  # Notez l'absence de %d"
   ]
  },
  {
   "cell_type": "markdown",
   "id": "67de15aa",
   "metadata": {},
   "source": [
    "# Commentaires\n",
    "\n",
    "Tout ce qui se trouve à droite d'un **croisillon** (**`#`**) est interprété comme un **commentaire**."
   ]
  },
  {
   "cell_type": "code",
   "execution_count": null,
   "id": "464509e2",
   "metadata": {},
   "outputs": [],
   "source": [
    "# Cette ligne est un commentaire\n",
    "i = 0\n",
    "while i <= 5: # Cette partie en gris, aussi\n",
    "  # Ceci est un commentaire sur\n",
    "  # deux lignes, dans un bloc\n",
    "  i = i + 1\n",
    "  print('i = ', i)\n",
    "  # Ce print n'est pas dans le bloc de la boucle while\n",
    "print('Valeur finale de i : ', i)"
   ]
  },
  {
   "cell_type": "markdown",
   "id": "e69a25ac",
   "metadata": {},
   "source": [
    "## Variables \n",
    "\n",
    "Pas de mot-clé pour déclarer une variable, on l'**initialise** directement :"
   ]
  },
  {
   "cell_type": "code",
   "execution_count": null,
   "id": "0ede42b2",
   "metadata": {},
   "outputs": [],
   "source": [
    "mon_entier = 42\n",
    "mon_float = 42.0\n",
    "mon_bool = True # or False\n",
    "mon_str = 'Introduction Python'\n",
    "mon_array = [mon_entier, mon_float, mon_bool, mon_str]\n",
    "\n",
    "print('Entier : ', mon_entier, ', Float : ', mon_float, ', Bool : ', mon_bool)\n",
    "print(mon_array)"
   ]
  },
  {
   "cell_type": "markdown",
   "id": "37c5b72f",
   "metadata": {},
   "source": [
    "## Suppression\n",
    "\n",
    "Il est possible de supprimer une variable :"
   ]
  },
  {
   "cell_type": "code",
   "execution_count": null,
   "id": "1ccf1e11",
   "metadata": {},
   "outputs": [],
   "source": [
    "i = 0\n",
    "print(i)\n",
    "del i # i n'existe plus\n",
    "print(i)"
   ]
  },
  {
   "cell_type": "markdown",
   "id": "5a9cc1d3",
   "metadata": {},
   "source": [
    "## Affectation `=`"
   ]
  },
  {
   "cell_type": "code",
   "execution_count": null,
   "id": "3966c0bc",
   "metadata": {},
   "outputs": [],
   "source": [
    "ma_variable = 1 + 41  # Affectation individuelle\n",
    "\n",
    "a = b = c = 0         # Affectation multiple de la même valeur\n",
    "\n",
    "x, y, z = 1, 2, 3     # Affectation multiple\n",
    "\n",
    "a, b = b, a           # Échange de valeurs\n",
    "\n",
    "x += 1                # Incrémentation"
   ]
  },
  {
   "cell_type": "markdown",
   "id": "a1964445",
   "metadata": {},
   "source": [
    "## Type\n",
    "\n",
    "On peut connaitre le type d'une variable (choisi par l'interpréteur) avec **`type()`**."
   ]
  },
  {
   "cell_type": "code",
   "execution_count": null,
   "id": "3477cb65",
   "metadata": {},
   "outputs": [],
   "source": [
    "x = 'Hello \\n world'\n",
    "print(type(x)) \n",
    "x = 42.0\n",
    "print(type(x)) \n",
    "x = 42\n",
    "print(type(x)) "
   ]
  },
  {
   "cell_type": "markdown",
   "id": "d2bfa88d",
   "metadata": {},
   "source": [
    "# Les types de base\n",
    "\n",
    "- **`int`** : entier"
   ]
  },
  {
   "cell_type": "code",
   "execution_count": null,
   "id": "58236951",
   "metadata": {},
   "outputs": [],
   "source": [
    "mon_entier = -5\n",
    "mon_entier = 42\n",
    "mon_entier = 0     # Zero\n",
    "mon_entier = 0b010 # Binaire\n",
    "mon_entier = 0xF3  # Hexadécimal\n",
    "\n",
    "print(mon_entier)"
   ]
  },
  {
   "cell_type": "markdown",
   "id": "b8fb4c66",
   "metadata": {},
   "source": [
    "- **`float`** : flottant"
   ]
  },
  {
   "cell_type": "code",
   "execution_count": null,
   "id": "b8d8e698",
   "metadata": {},
   "outputs": [],
   "source": [
    "mon_float = -3.12\n",
    "mon_float = 42.5\n",
    "mon_float = 0.0     # Zero\n",
    "mon_float = -4.2e-5 # x10^-5\n",
    "\n",
    "print(mon_float)\n"
   ]
  },
  {
   "cell_type": "markdown",
   "id": "99225a63",
   "metadata": {},
   "source": [
    "- **`str`** : chaîne de caractères"
   ]
  },
  {
   "cell_type": "code",
   "execution_count": null,
   "id": "afd464d2",
   "metadata": {},
   "outputs": [],
   "source": [
    "ma_str = 'a'\n",
    "ma_str = \"b\"\n",
    "ma_str = 'C\\'est pas mal...'           # guillemets simples (quotes)\n",
    "ma_str = \"Introduction au \\\"Python\\\"\"  # guillemets doubles\n",
    "ma_str = 'Introduction\\nau\\nPython'    # avec des sauts de ligne (\\n)\n",
    "\n",
    "print(ma_str)"
   ]
  },
  {
   "cell_type": "markdown",
   "id": "f1a50513",
   "metadata": {},
   "source": [
    "- **`bool`** : booléen"
   ]
  },
  {
   "cell_type": "code",
   "execution_count": null,
   "id": "c047287b",
   "metadata": {},
   "outputs": [],
   "source": [
    "mon_bool = True\n",
    "mon_bool = False\n",
    "mon_bool = 10 > 6 # True"
   ]
  },
  {
   "cell_type": "markdown",
   "id": "57656ba4",
   "metadata": {},
   "source": [
    "# Les types de base\n",
    "## Valeurs booléennes\n",
    "\n",
    "Tout est considéré comme **vrai**, sauf :"
   ]
  },
  {
   "cell_type": "code",
   "execution_count": null,
   "id": "eb360dd8",
   "metadata": {},
   "outputs": [],
   "source": [
    "print(False == True)\n",
    "print(None == True)\n",
    "print(None == False)\n",
    "print(0.0 == True)\n",
    "print(0.0 == False)\n",
    "print(1.0 == True)"
   ]
  },
  {
   "cell_type": "markdown",
   "id": "82a4de11",
   "metadata": {},
   "source": [
    "# Les types de base\n",
    "## Conversion **(cast)**\n",
    "\n"
   ]
  },
  {
   "cell_type": "code",
   "execution_count": null,
   "id": "dc4ad4b3",
   "metadata": {},
   "outputs": [],
   "source": [
    "print(int(16.7))    # 16\n",
    "print(str(42))      # '42'\n",
    "print(float(23))    # 23.0\n",
    "print(bool(x))      # False si x est nul, est un conteneur vide, ou vaut None. Sinon True"
   ]
  },
  {
   "cell_type": "code",
   "execution_count": null,
   "id": "71a98640",
   "metadata": {},
   "outputs": [],
   "source": [
    "print(chr(65) )    # 'A' (ASCII)\n",
    "print(ord('A'))    #  65 (ASCII)"
   ]
  },
  {
   "cell_type": "markdown",
   "id": "222b4725",
   "metadata": {},
   "source": [
    "# Chaînes de caractères\n",
    "\n",
    "- Affectation :"
   ]
  },
  {
   "cell_type": "code",
   "execution_count": null,
   "id": "5e3cca94",
   "metadata": {},
   "outputs": [],
   "source": [
    "str1 = 'Hello'   # str1 vaut 'Hello'\n",
    "print(str1)\n",
    "str1 = \"Bonjour\" # str1 vaut maintenant 'Bonjour'\n",
    "print(str1)"
   ]
  },
  {
   "cell_type": "markdown",
   "id": "b682cce9",
   "metadata": {},
   "source": [
    "- Concaténation :"
   ]
  },
  {
   "cell_type": "code",
   "execution_count": null,
   "id": "8d52e728",
   "metadata": {},
   "outputs": [],
   "source": [
    "str1 = 'Bonjour'\n",
    "print(str1)\n",
    "str2 = str1 + ' Toto !' # str2 vaut maintenant 'Bonjour Toto !'\n",
    "print(str2)"
   ]
  },
  {
   "cell_type": "markdown",
   "id": "056bcdef",
   "metadata": {},
   "source": [
    "- Fonctions :"
   ]
  },
  {
   "cell_type": "code",
   "execution_count": null,
   "id": "3f2d5a10",
   "metadata": {},
   "outputs": [],
   "source": [
    "str2 = str2.replace('Toto', 'Tata') # remplace 'Toto' par 'Tata' dans 'Bonjour Toto !'\n",
    "print(str2)"
   ]
  },
  {
   "cell_type": "markdown",
   "id": "fcc142bc",
   "metadata": {},
   "source": [
    "Comme en C, les chaînes de caractères sont des tableaux (des \"**listes**\") !\n",
    "*Mais il n'y a pas de notion de pointeurs...*"
   ]
  },
  {
   "cell_type": "code",
   "execution_count": null,
   "id": "d87f205b",
   "metadata": {},
   "outputs": [],
   "source": [
    "s = 'Bonjour'\n",
    "print(s[0])\n",
    "print(s[1])\n",
    "print(s[len(s)-1]) # len() retourne la taille d'une chaîne de caractères\n",
    "print(s[-2]) # -1 : dernière case, -2 : avant dernière case..."
   ]
  },
  {
   "cell_type": "markdown",
   "id": "708c86a9",
   "metadata": {},
   "source": [
    "Il est possible d'utiliser `\"\"\"` pour créer une chaîne de caractères de plusieurs lignes. \n"
   ]
  },
  {
   "cell_type": "code",
   "execution_count": null,
   "id": "f2fb93ac",
   "metadata": {},
   "outputs": [],
   "source": [
    "str1 = \"\"\"Chaîne codée sur plusieurs ligne.\n",
    "Avec un retour à la ligne.\"\"\"\n",
    "\n",
    "print(str1)"
   ]
  },
  {
   "cell_type": "markdown",
   "id": "92820092",
   "metadata": {},
   "source": [
    "\n",
    "# Affichage console\n",
    "\n",
    "La fonction `print()` permet d'effectuer un affichage dans la console. \n",
    "\n",
    "Ses paramètres, séparés par une virgule, sont concaténés lors de l'affichage. \n",
    "Ils peuvent être : une valeur, une variable, un appel de fonction..."
   ]
  },
  {
   "cell_type": "code",
   "execution_count": null,
   "id": "1257132e",
   "metadata": {},
   "outputs": [],
   "source": [
    "firstname = 'Toto'\n",
    "print('Bonjour', firstname)"
   ]
  },
  {
   "cell_type": "markdown",
   "id": "b4f9b504",
   "metadata": {},
   "source": [
    "Des espaces sont automatiquement ajoutés entre chaque paramètre affiché. Pour annuler ce comportement, il est possible de choisir un séparateur en ajoutant en paramètre."
   ]
  },
  {
   "cell_type": "code",
   "execution_count": null,
   "id": "bb17a4c4",
   "metadata": {},
   "outputs": [],
   "source": [
    "print('age:', 20, sep='~')"
   ]
  },
  {
   "cell_type": "markdown",
   "id": "17f30a2d",
   "metadata": {},
   "source": [
    "# Saisie clavier\n",
    "\n",
    "La fonction `input()` permet d'effectuer une saisie au clavier.\n",
    "\n",
    "Elle lit une **chaîne de caractères**. Pour lire un entier ou un réel, il faut effectuer un cast :\n"
   ]
  },
  {
   "cell_type": "code",
   "execution_count": null,
   "id": "adcd7ff1",
   "metadata": {},
   "outputs": [],
   "source": [
    "\n",
    "age = input('Quel âge avez-vous ? (sans cast)')\n",
    "print(age*3)\n",
    "age = int(input('Quel âge avez-vous ? (avec cast)'))\n",
    "print(age*3)\n"
   ]
  },
  {
   "cell_type": "markdown",
   "id": "91b79db0",
   "metadata": {},
   "source": [
    "# Conteneurs\n",
    "\n",
    "## Séquences ordonnées\n",
    "\n",
    "- Accès par indice\n",
    "- Valeurs répétables (doublons possibles)\n",
    "\n",
    "### Listes\n"
   ]
  },
  {
   "cell_type": "code",
   "execution_count": null,
   "id": "29ceeb6a",
   "metadata": {},
   "outputs": [],
   "source": [
    "ma_liste = [0, 1, 2, 3] \n",
    "print(ma_liste)\n",
    "print(type(ma_liste))"
   ]
  },
  {
   "cell_type": "markdown",
   "id": "2255d50a",
   "metadata": {},
   "source": [
    "### Tuples"
   ]
  },
  {
   "cell_type": "code",
   "execution_count": null,
   "id": "d0921787",
   "metadata": {},
   "outputs": [],
   "source": [
    "mon_tuple  = (0, 1, 2, 3) \n",
    "print(mon_tuple)\n",
    "print(type(mon_tuple))"
   ]
  },
  {
   "cell_type": "markdown",
   "id": "6efc814c",
   "metadata": {},
   "source": [
    "\n",
    "### Listes `[]`\n",
    "\n",
    "Collection de valeurs :white_check_mark: **modifiables**, de **type semblable ou non**. \n",
    "- Déclarée par une série de valeurs séparées par une **virgule** et entourées de **crochets**. "
   ]
  },
  {
   "cell_type": "code",
   "execution_count": null,
   "id": "ebae67dd",
   "metadata": {},
   "outputs": [],
   "source": [
    "ma_liste = []                                 # Liste vide\n",
    "ma_liste = [0, 1, 2, 3]                       # Valeurs du même type\n",
    "ma_liste = [0, False, 'Un', 3.0, None] # Valeurs de types différents\n",
    "\n",
    "print(ma_liste)"
   ]
  },
  {
   "cell_type": "markdown",
   "id": "6c059aa8",
   "metadata": {},
   "source": [
    "### Tuples `()`\n",
    "\n",
    "Collection de valeurs :no_entry_sign: **non modifiables**, de **type semblable ou non**.\n",
    "\n",
    "- Déclaré par une série de valeurs séparées par une **virgule** et optionnellement entourés de **parenthèses**. "
   ]
  },
  {
   "cell_type": "code",
   "execution_count": null,
   "id": "6a9e28fc",
   "metadata": {},
   "outputs": [],
   "source": [
    "mon_tuple =  ()       # Tuple vide\n",
    "mon_tuple =  (1.56,)  # Tuple d'un élément : doit finir par une virgule\n",
    "mon_tuple =  0, False, 'Un', 3.0, None               \n",
    "mon_tuple =  (0, False, 'Un', 3.0, None)      \n",
    "\n",
    "print(mon_tuple)"
   ]
  },
  {
   "cell_type": "markdown",
   "id": "037abf9f",
   "metadata": {},
   "source": [
    "- Accès par **indice** (**positif** ou **négatif**)\n",
    "`a[0]` &#8594; première valeur et `a[-1]` &#8594; dernière valeur."
   ]
  },
  {
   "cell_type": "code",
   "execution_count": null,
   "id": "54cd9f81",
   "metadata": {},
   "outputs": [],
   "source": [
    "ma_liste_mixte   = [0, False, 'Un', 3.0, None]\n",
    "mon_tuple_mixte  = (0, False, 'Un', 3.0, None)\n",
    "# indice positif :  0    1     2     3    4\n",
    "# indice négatif : -5   -4    -3    -2   -1\n",
    "print('Liste[2]:', ma_liste_mixte[2])\n",
    "print('Tuple[-2]:', mon_tuple_mixte[-2])\n"
   ]
  },
  {
   "cell_type": "markdown",
   "id": "df5c3392",
   "metadata": {},
   "source": [
    "- Accès à des **sous-séquences** (par tranches) : `[`**`tranche début`**`:`**`tranche fin`**`:`**`pas`**`]`"
   ]
  },
  {
   "cell_type": "code",
   "execution_count": null,
   "id": "b0e45a85",
   "metadata": {},
   "outputs": [],
   "source": [
    "ma_liste           = [  10 ,  20 ,  30 ,  40 ,  50 ] \n",
    "# indice positif:    |  0  |  1  |  2  |  3  |  4  |\n",
    "# indice négatif:    | -5  | -4  | -3  | -2  | -1  |\n",
    "# tranche positive:  0  |  1  |  2  |  3  |  4  |  5\n",
    "# tranche négative: -5  | -4  | -3  | -2  | -1  | \n",
    "\n",
    "print(ma_liste[0:3:1])  # ou [:3]\n",
    "print(ma_liste[0:5:2])  # ou [::2]\n",
    "print(ma_liste[::-1])   # inversion de liste"
   ]
  },
  {
   "cell_type": "markdown",
   "id": "5a61a673",
   "metadata": {},
   "source": [
    "| Python                | Description                         |\n",
    "|-----------------------|-------------------------------------|\n",
    "| `ma_liste[3:]`        | Tous, sauf les trois premiers       |\n",
    "| `ma_liste[:3]`        | Les trois premiers                  |\n",
    "| `ma_liste[:-2]`       | Tous, sauf les deux derniers        |\n",
    "| `ma_liste[1:-1]`      | Du deuxième à l'avant dernier       |\n",
    "| `ma_liste[::3]`       | Tous, par pas de 3 *(de 3 en 3)*    |\n",
    "| `ma_liste[::-1]`      | Tous, du dernier au premier         |\n",
    "| `ma_liste[::-2]`      | Du dernier au premier, par pas de 2 |"
   ]
  },
  {
   "cell_type": "code",
   "execution_count": null,
   "id": "f1951e5c",
   "metadata": {},
   "outputs": [],
   "source": [
    "print(ma_liste[3:]  )\n",
    "print(ma_liste[:3]  )\n",
    "print(ma_liste[:-2] )\n",
    "print(ma_liste[1:-1])\n",
    "print(ma_liste[::3] )\n",
    "print(ma_liste[::-1])\n",
    "print(ma_liste[::-2])"
   ]
  },
  {
   "cell_type": "markdown",
   "id": "0617db0a",
   "metadata": {},
   "source": [
    "# Operations courantes sur séquences\n",
    "\n",
    "```python\n",
    "a = [1, 2, 3]\n",
    "b = [4, 5, 6]\n",
    "```\n",
    "\n",
    "| Opération              | Python            | Résultat           |\n",
    "|------------------------|:------------------|--------------------|\n",
    "| Taille                 | `len(a)`          | 3                  |\n",
    "| Minimum                | `min(a)`          | 1                  |\n",
    "| Maximum                | `max(a)`          | 3                  |\n",
    "| Somme                  | `sum(a)`          | 6                  |\n",
    "| Tri                    | `sorted(a)`       | [1, 2, 3]          |\n",
    "| Multiplication         | `a * 2`           | [1, 2, 3, 1, 2, 3] |\n",
    "| Suppression par indice | `del a[1]`        | [1, 3]             |\n",
    "| Suppression par valeur | `a.remove(2)`     | [1, 3]             |\n",
    "| Ajout à la fin         | `a.append(4)`     | [1, 2, 3, 4]       |\n",
    "| Ajout en milieu (index 1) | `a.insert(1, 5)`  | [1, 5, 2, 3]       |\n",
    "| Pioche                 | `a.pop()`         | [1, 2] et retourne 3            |\n",
    "| Concaténation         | `a + b`         | [1, 2, 3, 4, 5, 6] |\n",
    "| Concaténation         | `a.extend(b)`   | [1, 2, 3, 4, 5, 6] |"
   ]
  },
  {
   "cell_type": "code",
   "execution_count": null,
   "id": "a34911de",
   "metadata": {},
   "outputs": [],
   "source": [
    "a = [1, 2, 3]\n",
    "\n",
    "# Operations\n",
    "print(len(a)   )\n",
    "print(min(a)   )  \n",
    "print(max(a)   )  \n",
    "print(sum(a)   )  # uniquement int \n",
    "print(sorted(a))"
   ]
  },
  {
   "cell_type": "code",
   "execution_count": null,
   "id": "c461a549",
   "metadata": {},
   "outputs": [],
   "source": [
    "a = [1, 2, 3]\n",
    "\n",
    "# Supression et ajout\n",
    "del a[1]\n",
    "print(a)\n",
    "a = [1, 2, 3]\n",
    "a.remove(2) \n",
    "print(a)  \n",
    "a.append(4)\n",
    "print(a)  \n",
    "a.insert(1, 5)\n",
    "print(a)\n",
    "print(a.pop())  \n"
   ]
  },
  {
   "cell_type": "code",
   "execution_count": null,
   "id": "a7b3fc07",
   "metadata": {},
   "outputs": [],
   "source": [
    "a = [1, 2, 3]\n",
    "b = [4, 5, 6]\n",
    "\n",
    "# Concantenation \n",
    "print(a*5)\n",
    "print(a+b)\n",
    "a.extend(b)\n",
    "print(a)"
   ]
  },
  {
   "cell_type": "markdown",
   "id": "a9e14056",
   "metadata": {},
   "source": [
    "# Conteneurs clés\n",
    "\n",
    "- Sans ordre\n",
    "- Accès par clé\n",
    "- Clés uniques\n",
    "\n",
    "## Dictionnaires\n",
    "\n",
    "```python\n",
    "mon_dict = {1: 'one', 'password': 'azerty', 12.4: 50}\n",
    "```\n",
    "\n",
    "## Ensembles\n",
    "```python\n",
    "mon_set = {'Toto', 'Tata', 12, 2.65}\n",
    "```"
   ]
  },
  {
   "cell_type": "code",
   "execution_count": null,
   "id": "8f1af14f",
   "metadata": {},
   "outputs": [],
   "source": [
    "mon_dict = {1: 'one', 'password': 'azerty', 12.4: 50}\n",
    "mon_set = {'Toto', 'Tata', 12, 2.65}\n",
    "\n",
    "print(mon_dict)\n",
    "print(mon_set)"
   ]
  },
  {
   "cell_type": "markdown",
   "id": "7930e0ec",
   "metadata": {},
   "source": [
    "## Dictionnaires `{}`\n",
    "\n",
    "Couples **clé**/**valeur**. \n",
    "- Déclaré par une série de **`clé`**`:`**`valeur`** séparées par des virgules, entre **accolades**."
   ]
  },
  {
   "cell_type": "code",
   "execution_count": null,
   "id": "03dc201c",
   "metadata": {},
   "outputs": [],
   "source": [
    "mon_dict = {} # dictionnaire vide\n",
    "mon_dict = dict(a=21, b='toto')  \n",
    "mon_dict = {1: 'one', 'password': 'azerty', 12.4: 50}\n",
    "\n",
    "\n",
    "p = 'password'\n",
    "# Accès\n",
    "print(mon_dict[p])\n",
    "# Clés\n",
    "print(list(mon_dict.keys()))"
   ]
  },
  {
   "cell_type": "markdown",
   "id": "30bfb160",
   "metadata": {},
   "source": [
    "## Ensembles `{}`\n",
    "\n",
    "Ensemble de **clés** uniques. \n",
    "\n",
    "- Déclaré par une série de **`clé`** uniques séparées par des virgules, entre **accolades**. "
   ]
  },
  {
   "cell_type": "code",
   "execution_count": null,
   "id": "060c8b45",
   "metadata": {},
   "outputs": [],
   "source": [
    "mon_set = set() # ensemble vide\n",
    "mon_set = {5, 2, 4, 6}\n",
    "mon_set = {'Toto', 'Tata', 12, 2.65, 12} # les deux 12 seront unifiés\n",
    "\n",
    "\n",
    "print(mon_set)\n",
    "print('Toto' in mon_set)"
   ]
  },
  {
   "cell_type": "markdown",
   "id": "b09572d0",
   "metadata": {},
   "source": [
    "Ci-dessus, le 12 ne sera bien présent qu'une seule fois dans l'ensemble."
   ]
  },
  {
   "cell_type": "markdown",
   "id": "1e6f43ba",
   "metadata": {},
   "source": [
    "## Conversions\n"
   ]
  },
  {
   "cell_type": "code",
   "execution_count": null,
   "id": "3258e949",
   "metadata": {},
   "outputs": [],
   "source": [
    "print(list(\"abc\"))                       # ['a', 'b', 'c']\n",
    "\n",
    "print(dict(((3, \"trois\"), (1, \"un\"))))     # {1: 'un', 3: 'trois'}\n",
    "\n",
    "print(set([\"un\", \"deux\"]))               # {'un', 'deux'}"
   ]
  },
  {
   "cell_type": "markdown",
   "id": "77666b4d",
   "metadata": {},
   "source": [
    "# Tests et boucles\n"
   ]
  },
  {
   "cell_type": "markdown",
   "id": "96824020",
   "metadata": {},
   "source": [
    "## Opérateurs logiques\n",
    "\n",
    "| Opérateur                | Python        |\n",
    "|--------------------------|---------------|\n",
    "| Conjonction              | `and`         |\n",
    "| Disjonction              | `or`          |\n",
    "| Négation                 | `not`         |"
   ]
  },
  {
   "cell_type": "code",
   "execution_count": null,
   "id": "8c30a1fe",
   "metadata": {},
   "outputs": [],
   "source": [
    "i = int(input('Saisissez un entier'))\n",
    "if i >= 0 and not i > 10:\n",
    "    print('entre 0 et 10')"
   ]
  },
  {
   "cell_type": "markdown",
   "id": "26e2c500",
   "metadata": {},
   "source": [
    ":memo: En Python, le partage d'opérande entre opérateurs est possible :\n"
   ]
  },
  {
   "cell_type": "code",
   "execution_count": null,
   "metadata": {},
   "outputs": [],
   "source": [
    "i = 10\n",
    "if 0 <= i < 11:\n",
    "    print('entre 0 et 10')"
   ]
  },
  {
   "cell_type": "markdown",
   "id": "58453df1",
   "metadata": {},
   "source": [
    "## Opérateurs de comparaison\n",
    "\n",
    "| Opérateur              | Python |\n",
    "|------------------------|--------|\n",
    "| Egalité                | `==`   |\n",
    "| Supériorité stricte    | `>`    |\n",
    "| Supériorité            | `>=`   |\n",
    "| Infériorité stricte    | `<`    |\n",
    "| Infériorité            | `<=`   |\n"
   ]
  },
  {
   "cell_type": "markdown",
   "id": "7d8eff33",
   "metadata": {},
   "source": [
    "## Test `if` \n",
    "\n",
    "- `if`**`<condition logique>`**`:`\n",
    "- `elif`**`<condition logique>`**`:`\n",
    "- `else`**`:`** "
   ]
  },
  {
   "cell_type": "code",
   "execution_count": null,
   "id": "46d971ed",
   "metadata": {},
   "outputs": [],
   "source": [
    "n = 5\n",
    "if n > 0:\n",
    "    print('Positif')\n",
    "elif n < 0:\n",
    "    print('Negatif')        \n",
    "else:\n",
    "    print('Zero')"
   ]
  },
  {
   "cell_type": "markdown",
   "id": "da63d6ac",
   "metadata": {},
   "source": [
    "# Boucles\n",
    "\n",
    "Comme en C, il est possible dans une boucle d'utiliser :\n",
    "- `break` : pour sortir immédiatement de la boucle.\n",
    "- `continue` : pour passer à l'itération suivante."
   ]
  },
  {
   "cell_type": "markdown",
   "id": "2339a9f0",
   "metadata": {},
   "source": [
    "## Boucle `while` \n",
    "\n",
    "`while`**`<condition logique>`**`:`"
   ]
  },
  {
   "cell_type": "code",
   "execution_count": null,
   "id": "9edd6d07",
   "metadata": {},
   "outputs": [],
   "source": [
    "i = 0\n",
    "while i < 10:\n",
    "    print(i)\n",
    "    i = i + 1"
   ]
  },
  {
   "cell_type": "markdown",
   "id": "32d78eac",
   "metadata": {},
   "source": [
    "Il n'existe pas de boucle `do while` en Python."
   ]
  },
  {
   "cell_type": "markdown",
   "id": "b815dc54",
   "metadata": {},
   "source": [
    "## Boucle `for`\n",
    "\n",
    "`for`**`<itérateur>`**` in `**`<séquence>`**`:`\n",
    "\n",
    "- Parcours de valeurs"
   ]
  },
  {
   "cell_type": "code",
   "execution_count": null,
   "id": "7f362d22",
   "metadata": {},
   "outputs": [],
   "source": [
    "ma_liste = [23, 45, 12, 65]\n",
    "\n",
    "for item in ma_liste:\n",
    "    print(item)"
   ]
  },
  {
   "cell_type": "markdown",
   "id": "c1a9f51d",
   "metadata": {},
   "source": [
    "- Parcours de valeurs (chaîne de caractères)"
   ]
  },
  {
   "cell_type": "code",
   "execution_count": null,
   "id": "e238d1d2",
   "metadata": {},
   "outputs": [],
   "source": [
    "s = 'ECE'\n",
    "for c in s:\n",
    "    print(c)"
   ]
  },
  {
   "cell_type": "markdown",
   "id": "8a35b894",
   "metadata": {},
   "source": [
    "## `Range` Séquence d'entiers\n",
    "\n",
    "Fonction native de Python qui retourne une séquence des entiers compris dans une intervalle : `range(`**`début inclus (optionel)`**`, `**`fin exclue`**`, `**`pas (optionel)`**`)`\n",
    "\n",
    "| Intervalle                | Python              | Résultat             |\n",
    "|---------------------------|---------------------|----------------------|\n",
    "| $[0, 5[$                  | `range(5)`          | `0 1 2 3 4`          |\n",
    "| $[3, 10[$                 | `range(3, 10)`      | `3 4 5 6 7 8 9`      |\n",
    "| $[4, 21[$ par pas de $3$  | `range(4, 12, 3)`   | `4 7 10 13 16 19`    |\n",
    "| $]5, 20]$ par pas de $-5$ | `range(20, 5, -5)`  | `20 15 10`           |"
   ]
  },
  {
   "cell_type": "code",
   "execution_count": null,
   "id": "359ab280",
   "metadata": {},
   "outputs": [],
   "source": [
    "print(range(5))\n",
    "print(type(range(5)))"
   ]
  },
  {
   "cell_type": "markdown",
   "id": "5b835de7",
   "metadata": {},
   "source": [
    "- Création de listes :"
   ]
  },
  {
   "cell_type": "code",
   "execution_count": null,
   "id": "bfdf77d0",
   "metadata": {},
   "outputs": [],
   "source": [
    "ma_liste = list(range(1, 10))       # [1, 2, 3, 4, 5, 6, 7, 8, 9]\n",
    "print(ma_liste)"
   ]
  },
  {
   "cell_type": "markdown",
   "id": "1eb8f92b",
   "metadata": {},
   "source": [
    "- Itération de boucle `for` :"
   ]
  },
  {
   "cell_type": "code",
   "execution_count": null,
   "id": "c1193d52",
   "metadata": {},
   "outputs": [],
   "source": [
    "for i in range(5):\n",
    "    print(i)                        # 0 1 2 3 4"
   ]
  },
  {
   "cell_type": "code",
   "execution_count": null,
   "id": "d45179a3",
   "metadata": {},
   "outputs": [],
   "source": [
    "for i in range(1, 10, 2):\n",
    "  print(i)                        # 1 3 5 7 9"
   ]
  },
  {
   "cell_type": "code",
   "execution_count": null,
   "id": "3006cb09",
   "metadata": {},
   "outputs": [],
   "source": [
    "ma_liste = [10, 12, 13, 15, 42, 74, 12]\n",
    "for i in range(len(ma_liste)):\n",
    "  print(ma_liste[i])                     # 10 12 13 15 42 74 12"
   ]
  },
  {
   "cell_type": "markdown",
   "id": "10dbc696",
   "metadata": {},
   "source": [
    "## Parcours par indice avec `range(len())`"
   ]
  },
  {
   "cell_type": "code",
   "execution_count": null,
   "id": "b3730ed9",
   "metadata": {},
   "outputs": [],
   "source": [
    "ma_liste = [23, 45, 12, 65]\n",
    "\n",
    "for i in range(len(ma_liste)):\n",
    "    print('La case', i, 'contient', ma_liste[i])"
   ]
  },
  {
   "cell_type": "markdown",
   "id": "909068a5",
   "metadata": {},
   "source": [
    "## Parcours par indice et valeur"
   ]
  },
  {
   "cell_type": "code",
   "execution_count": null,
   "id": "75a9b06e",
   "metadata": {},
   "outputs": [],
   "source": [
    "ma_liste = [23, 45, 12, 65]\n",
    "\n",
    "for i, item in enumerate(ma_liste):\n",
    "    print('La case', i, 'contient', item)"
   ]
  },
  {
   "cell_type": "markdown",
   "id": "a78b4da4",
   "metadata": {},
   "source": [
    "`enumerate()` retourne une liste de tuples : `[(0, 23), (1, 45), (2, 12), (3, 65)]`."
   ]
  },
  {
   "cell_type": "markdown",
   "id": "61c6c83b",
   "metadata": {},
   "source": [
    "# Fonctions\n",
    "\n",
    "Les fonctions se définissent avec le mot-clé **`def`** :"
   ]
  },
  {
   "cell_type": "code",
   "execution_count": null,
   "id": "02e60b2e",
   "metadata": {},
   "outputs": [],
   "source": [
    "# Definition\n",
    "def nom_de_la_fonction(nom, age):\n",
    "    print(nom, 'a', age, 'ans')\n",
    "\n",
    "# Appel\n",
    "nom_de_la_fonction('Toto', 19)"
   ]
  },
  {
   "cell_type": "markdown",
   "id": "1c2b6a9c",
   "metadata": {},
   "source": [
    "- C'est à nous de vérifier le type de ce que l'on reçoit en paramètres\n",
    "- Il est possible de rendre les derniers paramètres facultatifs en leur attribuant une valeur par défaut :"
   ]
  },
  {
   "cell_type": "code",
   "execution_count": null,
   "id": "c00313bd",
   "metadata": {},
   "outputs": [],
   "source": [
    "def maFunc(a, b=0, c='Sans nom'):\n",
    "  print(a, b, c)\n",
    "\n",
    "maFunc(1)"
   ]
  },
  {
   "cell_type": "markdown",
   "id": "31fc9bb4",
   "metadata": {},
   "source": [
    "Toutes les données sont passées par **valeur**, sauf les listes.\n",
    "\n",
    "Pour retourner un ou plusieurs résultat(s), nous utilisons l'instruction `return`. \n",
    "\n",
    "- Un seul résultat"
   ]
  },
  {
   "cell_type": "code",
   "execution_count": null,
   "id": "90797eda",
   "metadata": {},
   "outputs": [],
   "source": [
    "def calculer_aire(lon, lar):\n",
    "    return lon * lar\n",
    "\n",
    "print(calculer_aire(10, 6))"
   ]
  },
  {
   "cell_type": "markdown",
   "id": "525c57b4",
   "metadata": {},
   "source": [
    "- Plusieurs résultat, grâce aux **tuples**"
   ]
  },
  {
   "cell_type": "code",
   "execution_count": null,
   "metadata": {},
   "outputs": [],
   "source": [
    "from math import pi\n",
    "\n",
    "def calculer_aire_et_perimetre_cercle(rayon):\n",
    "    a = pi * rayon**2\n",
    "    p = 2 * pi * rayon\n",
    "    return a, p # on retourne un tuple : (a, p)\n",
    "\n",
    "aire, perimetre = calculer_aire_et_perimetre_cercle(5)\n",
    "\n",
    "print('Aire : ', round(aire, 2), ' cm^2.\\nPérimètre : ', round(perimetre, 2), ' cm', sep='')"
   ]
  },
  {
   "cell_type": "markdown",
   "id": "b48dde93",
   "metadata": {},
   "source": [
    "# Bibliothèques\n",
    "\n",
    "- Les bibliothèques offrent de nombreuses fonctions et variables.\n",
    "- Il existe différents types de bibliothèques :\n",
    "  - Bibliothèque standard (native au Python)\n",
    "  - Bibliothèques personnelles (nos fichiers)\n",
    "  - Bibliothèques externes\n",
    "- Nous pouvons les importer dans nos scripts avec l'instruction **`import`**."
   ]
  },
  {
   "cell_type": "code",
   "execution_count": null,
   "id": "9d2eed35",
   "metadata": {},
   "outputs": [],
   "source": [
    "import random\n",
    "\n",
    "n = random.randint(5, 15)          # entier aléatoire entre 5 et 15\n",
    "print(n)\n",
    "print(random.random())             # réel aléatoire entre 0.0 et 1.0\n",
    "print(random.uniform(2, 6.5))      # réel aléatoire entre 2.0 et 6.5"
   ]
  },
  {
   "cell_type": "markdown",
   "id": "8b3d1095",
   "metadata": {},
   "source": [
    "`import` importe tout le paquet. On accède ensuite à son contenu en écrivant son nom suivi de ce à quoi on veut accéder : `random.randint(1, 6)`"
   ]
  },
  {
   "cell_type": "markdown",
   "id": "4a899161",
   "metadata": {},
   "source": [
    "Lors de l'import, on peut créer un **alias** de nom (`as`) à ce que l'on inclue :"
   ]
  },
  {
   "cell_type": "code",
   "execution_count": null,
   "id": "b6af4359",
   "metadata": {},
   "outputs": [],
   "source": [
    "from random import randint as ri, uniform # randint peut être appelé ri\n",
    "\n",
    "n = ri(5, 15)           # entier entre 5 et 15\n",
    "uniform(2, 6.5)         # réel entre 2.0 et 6.5"
   ]
  },
  {
   "cell_type": "markdown",
   "id": "7efebf3c",
   "metadata": {},
   "source": [
    "On peut également créer un alias au paquet lui-même :"
   ]
  },
  {
   "cell_type": "code",
   "execution_count": null,
   "id": "9526a2fd",
   "metadata": {},
   "outputs": [],
   "source": [
    "import random as rd\n",
    "\n",
    "rd.random()"
   ]
  },
  {
   "cell_type": "markdown",
   "id": "72d04c3b",
   "metadata": {},
   "source": [
    "## Bibliothèque personnelle\n",
    "\n",
    "Il est possible de créer son propre paquet/sa propre bibliothèque.\n",
    "Il suffit alors d'effectuer un `import` en spécifiant le nom du fichier\n",
    "\n",
    "`ece.py` :\n",
    "```python\n",
    "def dire_bonjour():\n",
    "    print('Bonjour !')\n",
    "lyon = 69007\n",
    "```\n",
    "`main.py` :\n",
    "```python\n",
    "import ece\n",
    "ece.dire_bonjour()\n",
    "print(ece.lyon)\n",
    "```"
   ]
  }
 ],
 "metadata": {
  "interpreter": {
   "hash": "79c940ecee13266736e71f95fa910a70a86f62a4e73bd4950eeca69aeb976a10"
  },
  "kernelspec": {
   "display_name": "Python 3.9.12 64-bit",
   "language": "python",
   "name": "python3"
  },
  "language_info": {
   "codemirror_mode": {
    "name": "ipython",
    "version": 3
   },
   "file_extension": ".py",
   "mimetype": "text/x-python",
   "name": "python",
   "nbconvert_exporter": "python",
   "pygments_lexer": "ipython3",
   "version": "3.9.12"
  }
 },
 "nbformat": 4,
 "nbformat_minor": 5
}
